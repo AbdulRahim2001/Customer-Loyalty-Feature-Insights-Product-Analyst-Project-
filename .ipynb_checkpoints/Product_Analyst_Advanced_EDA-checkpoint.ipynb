{
 "cells": [
  {
   "cell_type": "markdown",
   "id": "50db59ab",
   "metadata": {},
   "source": [
    "# Product Analyst Project: Advanced EDA and Feature Analysis"
   ]
  },
  {
   "cell_type": "markdown",
   "id": "92bb6b11",
   "metadata": {},
   "source": [
    "## 1. Import Required Libraries and Load Dataset"
   ]
  },
  {
   "cell_type": "code",
   "execution_count": null,
   "id": "a1bbdda3",
   "metadata": {},
   "outputs": [],
   "source": [
    "import pandas as pd\n",
    "import numpy as np\n",
    "import matplotlib.pyplot as plt\n",
    "import seaborn as sns\n",
    "from scipy import stats\n",
    "from datetime import timedelta\n",
    "import warnings\n",
    "warnings.filterwarnings('ignore')\n",
    "\n",
    "# Load data\n",
    "df = pd.read_csv(\"../data/Product_Feature_Usage_Complex.csv\")\n",
    "df.head()"
   ]
  },
  {
   "cell_type": "markdown",
   "id": "6c12e488",
   "metadata": {},
   "source": [
    "## 2. Basic Data Exploration"
   ]
  },
  {
   "cell_type": "code",
   "execution_count": null,
   "id": "ad8680c5",
   "metadata": {},
   "outputs": [],
   "source": [
    "print(\"Data Shape:\", df.shape)\n",
    "print(\"Data Types:\\n\", df.dtypes)\n",
    "print(\"Missing Values:\\n\", df.isnull().sum())\n",
    "df.describe(include='all')\n"
   ]
  },
  {
   "cell_type": "markdown",
   "id": "91d7f474",
   "metadata": {},
   "source": [
    "## 3. Data Cleaning & Feature Engineering"
   ]
  },
  {
   "cell_type": "code",
   "execution_count": null,
   "id": "df35e060",
   "metadata": {},
   "outputs": [],
   "source": [
    "# Convert datetime\n",
    "df['session_date'] = pd.to_datetime(df['session_date'])\n",
    "\n",
    "# Add new temporal features\n",
    "df['month'] = df['session_date'].dt.month\n",
    "df['day'] = df['session_date'].dt.day\n",
    "df['hour'] = df['session_date'].dt.hour\n",
    "df['weekday'] = df['session_date'].dt.day_name()\n",
    "\n",
    "# Remove duplicates\n",
    "df.drop_duplicates(inplace=True)\n",
    "\n",
    "# Remove outliers (top 1% session duration)\n",
    "q_hi = df['session_duration_min'].quantile(0.99)\n",
    "df = df[df['session_duration_min'] < q_hi]\n",
    "\n",
    "# Sanity check on data\n",
    "df.reset_index(drop=True, inplace=True)\n",
    "df.head()\n"
   ]
  },
  {
   "cell_type": "markdown",
   "id": "c70c5a11",
   "metadata": {},
   "source": [
    "## 4. Session Duration Analysis"
   ]
  },
  {
   "cell_type": "code",
   "execution_count": null,
   "id": "d20948c2",
   "metadata": {},
   "outputs": [],
   "source": [
    "plt.figure(figsize=(12, 6))\n",
    "sns.histplot(df['session_duration_min'], bins=40, kde=True)\n",
    "plt.title(\"Session Duration Distribution\")\n",
    "plt.xlabel(\"Minutes\")\n",
    "plt.ylabel(\"Frequency\")\n",
    "plt.show()\n",
    "\n",
    "# Boxplot by Feature\n",
    "plt.figure(figsize=(14, 6))\n",
    "sns.boxplot(x='feature_used', y='session_duration_min', data=df)\n",
    "plt.xticks(rotation=45)\n",
    "plt.title(\"Session Duration by Feature Used\")\n",
    "plt.show()\n"
   ]
  },
  {
   "cell_type": "markdown",
   "id": "c0cd7268",
   "metadata": {},
   "source": [
    "## 5. Conversion Analysis"
   ]
  },
  {
   "cell_type": "code",
   "execution_count": null,
   "id": "3729ab0a",
   "metadata": {},
   "outputs": [],
   "source": [
    "conversion_rate = df.groupby('feature_used')['conversion_flag'].mean().sort_values(ascending=False)\n",
    "conversion_rate.plot(kind='bar', figsize=(12, 6), color='green')\n",
    "plt.title(\"Conversion Rate by Feature\")\n",
    "plt.ylabel(\"Conversion Rate\")\n",
    "plt.xlabel(\"Feature\")\n",
    "plt.xticks(rotation=45)\n",
    "plt.show()\n"
   ]
  },
  {
   "cell_type": "markdown",
   "id": "ea6d486c",
   "metadata": {},
   "source": [
    "## 6. A/B Testing Impact on Conversions"
   ]
  },
  {
   "cell_type": "code",
   "execution_count": null,
   "id": "408fe3dc",
   "metadata": {},
   "outputs": [],
   "source": [
    "ab_group_stats = df.groupby('ab_test_group')['conversion_flag'].agg(['mean', 'count'])\n",
    "print(ab_group_stats)\n",
    "\n",
    "sns.barplot(x='ab_test_group', y='conversion_flag', data=df)\n",
    "plt.title(\"A/B Test Group Conversion Rate\")\n",
    "plt.ylabel(\"Conversion Rate\")\n",
    "plt.show()\n"
   ]
  },
  {
   "cell_type": "markdown",
   "id": "ba7e2bdc",
   "metadata": {},
   "source": [
    "## 7. Platform and Device Analysis"
   ]
  },
  {
   "cell_type": "code",
   "execution_count": null,
   "id": "35544fa4",
   "metadata": {},
   "outputs": [],
   "source": [
    "sns.countplot(data=df, x='platform', hue='device_type')\n",
    "plt.title(\"Platform vs Device Usage\")\n",
    "plt.show()\n",
    "\n",
    "# Average duration by platform\n",
    "df.groupby('platform')['session_duration_min'].mean().plot(kind='bar', title=\"Avg. Session Duration by Platform\")\n",
    "plt.ylabel(\"Minutes\")\n",
    "plt.show()\n"
   ]
  },
  {
   "cell_type": "markdown",
   "id": "fd2ec587",
   "metadata": {},
   "source": [
    "## 8. User Behavior: Active Days, Repeats, Retention"
   ]
  },
  {
   "cell_type": "code",
   "execution_count": null,
   "id": "c53c96f4",
   "metadata": {},
   "outputs": [],
   "source": [
    "user_activity = df.groupby('user_id')['session_date'].nunique()\n",
    "plt.hist(user_activity, bins=30)\n",
    "plt.title(\"User Active Days Distribution\")\n",
    "plt.xlabel(\"Number of Active Days\")\n",
    "plt.ylabel(\"Number of Users\")\n",
    "plt.show()\n"
   ]
  },
  {
   "cell_type": "markdown",
   "id": "6200cf22",
   "metadata": {},
   "source": [
    "## 9. Loyalty Tier vs Satisfaction & Conversion"
   ]
  },
  {
   "cell_type": "code",
   "execution_count": null,
   "id": "f0658763",
   "metadata": {},
   "outputs": [],
   "source": [
    "plt.figure(figsize=(10,5))\n",
    "sns.boxplot(data=df, x='loyalty_tier', y='satisfaction_score')\n",
    "plt.title(\"Satisfaction Score by Loyalty Tier\")\n",
    "plt.show()\n",
    "\n",
    "conversion_by_tier = df.groupby('loyalty_tier')['conversion_flag'].mean()\n",
    "conversion_by_tier.plot(kind='bar', title=\"Conversion Rate by Loyalty Tier\")\n",
    "plt.ylabel(\"Conversion Rate\")\n",
    "plt.show()\n"
   ]
  },
  {
   "cell_type": "markdown",
   "id": "af0f3baf",
   "metadata": {},
   "source": [
    "## 10. Save Cleaned Dataset"
   ]
  },
  {
   "cell_type": "code",
   "execution_count": null,
   "id": "7f758722",
   "metadata": {},
   "outputs": [],
   "source": [
    "df.to_csv(\"../data/Cleaned_Product_Feature_Usage.csv\", index=False)\n",
    "print(\"Cleaned dataset saved.\")\n"
   ]
  }
 ],
 "metadata": {},
 "nbformat": 4,
 "nbformat_minor": 5
}